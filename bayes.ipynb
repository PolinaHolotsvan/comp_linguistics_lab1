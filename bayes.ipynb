{
 "cells": [
  {
   "cell_type": "code",
   "id": "initial_id",
   "metadata": {
    "collapsed": true,
    "ExecuteTime": {
     "end_time": "2024-09-26T08:52:46.131104Z",
     "start_time": "2024-09-26T08:52:46.121905Z"
    }
   },
   "source": [
    "import string\n",
    "\n",
    "import nltk\n",
    "from nltk.corpus import brown\n",
    "from sklearn.feature_extraction import DictVectorizer\n",
    "from sklearn.model_selection import train_test_split\n",
    "from sklearn.naive_bayes import MultinomialNB\n",
    "from sklearn.metrics import classification_report"
   ],
   "outputs": [],
   "execution_count": 23
  },
  {
   "metadata": {
    "ExecuteTime": {
     "end_time": "2024-09-26T08:52:46.146603Z",
     "start_time": "2024-09-26T08:52:46.134084Z"
    }
   },
   "cell_type": "code",
   "source": [
    "# nltk.download('brown')\n",
    "# nltk.download('universal_tagset')"
   ],
   "id": "f8322cb2636b7bc5",
   "outputs": [],
   "execution_count": 24
  },
  {
   "metadata": {
    "ExecuteTime": {
     "end_time": "2024-09-26T08:52:48.997058Z",
     "start_time": "2024-09-26T08:52:46.149136Z"
    }
   },
   "cell_type": "code",
   "source": [
    "tagged_sentences = brown.tagged_sents(tagset='universal')\n",
    "\n",
    "sentences = []\n",
    "tags = []\n",
    "for sent in tagged_sentences:\n",
    "    sentence, tag = zip(*sent)\n",
    "    sentences.append(list(sentence))\n",
    "    tags.append(list(tag))"
   ],
   "id": "7cd5cca71635fd3d",
   "outputs": [],
   "execution_count": 25
  },
  {
   "metadata": {
    "ExecuteTime": {
     "end_time": "2024-09-26T08:52:49.012518Z",
     "start_time": "2024-09-26T08:52:49.000002Z"
    }
   },
   "cell_type": "code",
   "source": [
    "def word2features(sent, i):\n",
    "    word = sent[i]\n",
    "    features = {\n",
    "        'word': word.lower(),\n",
    "        'is_capitalized': word[0].isupper(),\n",
    "        'is_digit': word.isdigit(),\n",
    "        'suffix-1': word[-1:],\n",
    "        'suffix-2': word[-2:],\n",
    "        'suffix-3': word[-3:],\n",
    "    }\n",
    "    return features\n",
    "\n",
    "\n",
    "def extract_features(sentences):\n",
    "    features = []\n",
    "    for sent in sentences:\n",
    "        sentence_features = [word2features(sent, i) for i in range(len(sent))]\n",
    "        features.append(sentence_features)\n",
    "    return features"
   ],
   "id": "1ebb8eebc97b4296",
   "outputs": [],
   "execution_count": 26
  },
  {
   "metadata": {
    "ExecuteTime": {
     "end_time": "2024-09-26T08:53:00.540586Z",
     "start_time": "2024-09-26T08:52:49.015527Z"
    }
   },
   "cell_type": "code",
   "source": [
    "X = extract_features(sentences)\n",
    "y = tags\n",
    "\n",
    "vectorizer = DictVectorizer(sparse=True)\n",
    "X_flat = [feat for sentence in X for feat in sentence]\n",
    "y_flat = [tag for sentence_tags in y for tag in sentence_tags]\n",
    "\n",
    "X_vec = vectorizer.fit_transform(X_flat)\n",
    "\n",
    "X_train, X_test, y_train, y_test = train_test_split(X_vec, y_flat, test_size=0.2, random_state=42)\n",
    "\n",
    "nb_model = MultinomialNB()\n",
    "nb_model.fit(X_train, y_train)\n",
    "\n",
    "y_pred = nb_model.predict(X_test)\n",
    "\n",
    "print(classification_report(y_test, y_pred))"
   ],
   "id": "da1072df44f046cf",
   "outputs": [
    {
     "name": "stdout",
     "output_type": "stream",
     "text": [
      "              precision    recall  f1-score   support\n",
      "\n",
      "           .       1.00      1.00      1.00     29719\n",
      "         ADJ       0.80      0.84      0.82     16729\n",
      "         ADP       0.93      0.88      0.91     29131\n",
      "         ADV       0.81      0.84      0.83     11301\n",
      "        CONJ       0.94      0.99      0.96      7618\n",
      "         DET       0.97      0.98      0.98     27273\n",
      "        NOUN       0.93      0.88      0.91     54909\n",
      "         NUM       0.85      0.94      0.89      2964\n",
      "        PRON       0.98      0.93      0.95      9825\n",
      "         PRT       0.64      0.91      0.75      5991\n",
      "        VERB       0.91      0.91      0.91     36503\n",
      "           X       0.67      0.12      0.21       276\n",
      "\n",
      "    accuracy                           0.91    232239\n",
      "   macro avg       0.87      0.85      0.84    232239\n",
      "weighted avg       0.92      0.91      0.92    232239\n",
      "\n"
     ]
    }
   ],
   "execution_count": 27
  },
  {
   "metadata": {
    "ExecuteTime": {
     "end_time": "2024-09-26T08:53:00.555827Z",
     "start_time": "2024-09-26T08:53:00.542589Z"
    }
   },
   "cell_type": "code",
   "source": [
    "def predict_pos(sentence):\n",
    "    sentence_features = [word2features(sentence, i) for i in range(len(sentence))]\n",
    "    X_sentence = vectorizer.transform(sentence_features)\n",
    "    y_pred = nb_model.predict(X_sentence)\n",
    "    return list(zip(sentence, y_pred))\n",
    "\n",
    "\n",
    "def clear_sentence(sentence):\n",
    "    punc = r'!()-[]{};:\\'\",<>./?@#$%^&*_~'\n",
    "    for character in punc:\n",
    "        sentence = sentence.replace(character, ' ' + character)\n",
    "    return sentence"
   ],
   "id": "53d4965e6ad555a6",
   "outputs": [],
   "execution_count": 28
  },
  {
   "metadata": {
    "ExecuteTime": {
     "end_time": "2024-09-26T08:53:00.571920Z",
     "start_time": "2024-09-26T08:53:00.557831Z"
    }
   },
   "cell_type": "code",
   "source": [
    "sentence = \"SAm is our teacher, he gives us funny lessons\"\n",
    "sentence = clear_sentence(sentence)\n",
    "sentence_list = sentence.split()\n",
    "print(predict_pos(sentence_list))\n"
   ],
   "id": "371e2ab6965e122b",
   "outputs": [
    {
     "name": "stdout",
     "output_type": "stream",
     "text": [
      "[('SAm', np.str_('NOUN')), ('is', np.str_('VERB')), ('our', np.str_('DET')), ('teacher', np.str_('NOUN')), (',', np.str_('.')), ('he', np.str_('PRON')), ('gives', np.str_('VERB')), ('us', np.str_('PRON')), ('funny', np.str_('ADJ')), ('lessons', np.str_('NOUN'))]\n"
     ]
    }
   ],
   "execution_count": 29
  },
  {
   "metadata": {
    "ExecuteTime": {
     "end_time": "2024-09-26T08:53:00.587443Z",
     "start_time": "2024-09-26T08:53:00.573908Z"
    }
   },
   "cell_type": "code",
   "source": "",
   "id": "45048aa81f5f3f08",
   "outputs": [],
   "execution_count": 29
  }
 ],
 "metadata": {
  "kernelspec": {
   "display_name": "Python 3",
   "language": "python",
   "name": "python3"
  },
  "language_info": {
   "codemirror_mode": {
    "name": "ipython",
    "version": 2
   },
   "file_extension": ".py",
   "mimetype": "text/x-python",
   "name": "python",
   "nbconvert_exporter": "python",
   "pygments_lexer": "ipython2",
   "version": "2.7.6"
  }
 },
 "nbformat": 4,
 "nbformat_minor": 5
}
